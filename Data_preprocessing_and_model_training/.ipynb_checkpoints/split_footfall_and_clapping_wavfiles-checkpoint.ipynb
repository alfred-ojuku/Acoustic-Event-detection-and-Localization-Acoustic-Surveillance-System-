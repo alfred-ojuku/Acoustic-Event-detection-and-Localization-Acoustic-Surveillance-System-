{
 "cells": [
  {
   "cell_type": "code",
   "execution_count": 1,
   "id": "b79ae7a6",
   "metadata": {},
   "outputs": [],
   "source": [
    "import pandas as pd\n",
    "import numpy as np\n",
    "from scipy.io import wavfile\n",
    "from scipy.io.wavfile import write\n",
    "import os"
   ]
  },
  {
   "cell_type": "code",
   "execution_count": 2,
   "id": "50a0b936",
   "metadata": {},
   "outputs": [],
   "source": [
    "df = pd.read_csv('meta/esc50.csv')"
   ]
  },
  {
   "cell_type": "code",
   "execution_count": 3,
   "id": "6b5f8c2c",
   "metadata": {
    "scrolled": true
   },
   "outputs": [
    {
     "data": {
      "text/plain": [
       "50"
      ]
     },
     "execution_count": 3,
     "metadata": {},
     "output_type": "execute_result"
    }
   ],
   "source": [
    "classes = list(np.unique(df.category))\n",
    "len(classes)"
   ]
  },
  {
   "cell_type": "code",
   "execution_count": 4,
   "id": "2c10e4b0",
   "metadata": {},
   "outputs": [],
   "source": [
    "clapping = df[df.category == 'clapping']"
   ]
  },
  {
   "cell_type": "code",
   "execution_count": 5,
   "id": "3d3d6e48",
   "metadata": {},
   "outputs": [],
   "source": [
    "clapping.set_index('filename',inplace = True)"
   ]
  },
  {
   "cell_type": "code",
   "execution_count": 16,
   "id": "92b1e938",
   "metadata": {},
   "outputs": [],
   "source": [
    "# Select the 40 clapping wavfiles from joint data set\n",
    "# Split each five second wavfile into 5 one second long wavfiles\n",
    "# Write each of these split wavfiles into a new 'clapping' folder\n",
    "for f in clapping.index:\n",
    "    \n",
    "    rate, signal = wavfile.read('audio/' + f)\n",
    "    chunk1 = signal[:44100] \n",
    "    chunk2 = signal[44100:88200]\n",
    "    chunk3 = signal[88200:132300]\n",
    "    chunk4 = signal[132300:176400]\n",
    "    chunk5 = signal[-44100:]\n",
    "    write('data/classification/clapping/' + '1_' + f,rate,chunk1.astype(np.int16))\n",
    "    write('data/classification/clapping/' + '2_' + f,rate,chunk2.astype(np.int16))\n",
    "    write('data/classification/clapping/' + '3_' + f,rate,chunk3.astype(np.int16))\n",
    "    write('data/classification/clapping/' + '4_' + f,rate,chunk4.astype(np.int16))\n",
    "    write('data/classification/clapping/' + '5_' + f,rate,chunk5.astype(np.int16))"
   ]
  },
  {
   "cell_type": "code",
   "execution_count": 4,
   "id": "b90e6e08",
   "metadata": {},
   "outputs": [],
   "source": [
    "footfall = df[df.target == 25]"
   ]
  },
  {
   "cell_type": "code",
   "execution_count": 5,
   "id": "e1be1370",
   "metadata": {},
   "outputs": [],
   "source": [
    "footfall.set_index('filename',inplace = True)"
   ]
  },
  {
   "cell_type": "code",
   "execution_count": 80,
   "id": "419dee9b",
   "metadata": {},
   "outputs": [],
   "source": [
    "# Select the 40 footfall wavfiles from joint data set\n",
    "# Split each five second wavfile into 5 one second long wavfiles\n",
    "# Write each of these split wavfiles into a new 'footfall' folder\n",
    "for f in footfall.index:\n",
    "    \n",
    "    rate, signal = wavfile.read('audio/' + f)\n",
    "    chunk1 = signal[:44100] \n",
    "    chunk2 = signal[44100:88200]\n",
    "    chunk3 = signal[88200:132300]\n",
    "    chunk4 = signal[132300:176400]\n",
    "    chunk5 = signal[-44100:]\n",
    "    write('data/classification/footfall/' + '1_' + f,rate,chunk1.astype(np.int16))\n",
    "    write('data/classification/footfall/' + '2_' + f,rate,chunk2.astype(np.int16))\n",
    "    write('data/classification/footfall/' + '3_' + f,rate,chunk3.astype(np.int16))\n",
    "    write('data/classification/footfall/' + '4_' + f,rate,chunk4.astype(np.int16))\n",
    "    write('data/classification/footfall/' + '5_' + f,rate,chunk5.astype(np.int16))"
   ]
  },
  {
   "cell_type": "code",
   "execution_count": 83,
   "id": "1739c54d",
   "metadata": {},
   "outputs": [
    {
     "data": {
      "text/plain": [
       "44100"
      ]
     },
     "execution_count": 83,
     "metadata": {},
     "output_type": "execute_result"
    }
   ],
   "source": [
    "rate"
   ]
  }
 ],
 "metadata": {
  "kernelspec": {
   "display_name": "Python 3",
   "language": "python",
   "name": "python3"
  },
  "language_info": {
   "codemirror_mode": {
    "name": "ipython",
    "version": 3
   },
   "file_extension": ".py",
   "mimetype": "text/x-python",
   "name": "python",
   "nbconvert_exporter": "python",
   "pygments_lexer": "ipython3",
   "version": "3.6.13"
  }
 },
 "nbformat": 4,
 "nbformat_minor": 5
}
